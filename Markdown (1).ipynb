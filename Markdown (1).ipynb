{
  "metadata": {
    "kernelspec": {
      "name": "python",
      "display_name": "Python (Pyodide)",
      "language": "python"
    },
    "language_info": {
      "codemirror_mode": {
        "name": "python",
        "version": 3
      },
      "file_extension": ".py",
      "mimetype": "text/x-python",
      "name": "python",
      "nbconvert_exporter": "python",
      "pygments_lexer": "ipython3",
      "version": "3.8"
    }
  },
  "nbformat_minor": 4,
  "nbformat": 4,
  "cells": [
    {
      "cell_type": "markdown",
      "source": "# Libertad Financiera",
      "metadata": {}
    },
    {
      "cell_type": "markdown",
      "source": "La **libertad Financiera** es un concepto muy tocado hoy en día, sin embargo no todo el mundo entiende este gran significado. Para poder obtener una libertad financiera no solo rquiere de dinero sino de timepo, en si puedes ser millonario pero puede ser que no tengas libertad financiera. Conseguir está es como balance de ambos. Y he ahí nuestras dos palabras claves ***dinero y tiempo***.",
      "metadata": {}
    },
    {
      "cell_type": "markdown",
      "source": "## En tu beneficio",
      "metadata": {}
    },
    {
      "cell_type": "markdown",
      "source": "Como ya mencione la libertad financiera requiere de tiempo y dinero. Hay que tener el dinero necesario que siga llegando a nuestra cuenta de banco pero el tiempo necesatio para disfrutarlo. De ahí la importancia de todo estopuedes ser rico pero no le dedicas el tiempo a tu familia o puedes tener todo el tiempo deel mundo pero no tienes dinero.  \n\nExisten dos tipos de ingresos:\n* ***Ingreso lineal***: Se conforma cuando tu tienes que trabajar para conseguir dinero, sino inviertes más tiempo trabajando no puedes obtener más dinero. Básicamente estás intercambiando tu tiempo por dinero, y aquí una pregunta sumamente importante ¿cuánto vale una hora tuya? ¿Crees en realidad que eso vale una hora tuya?\n$$ \\frac{Pago.semanal.o.mensual}{horas trabajadas} $$\n\n* ***Ingreso residual***: Cuando es un ingreso residual es cuando tu haces una cosa una vez bien y te sigue pagando continuamente. Por ejemplo puedes tener departamentos en renta aquí el tiempo invertido no es mucho y tu sigues obteniendo más dinero conforme tus rentas, otro ejemplo es uno de mis libros favoritos el monje que vendio su ferrari el autor lo hizo una vez y pero el cheque sigue llegando porque se sigue vendiendo. \n",
      "metadata": {}
    },
    {
      "cell_type": "markdown",
      "source": "<img src=\"https://tse4.mm.bing.net/th?id=OIP.GRjyUks3bnZ24DneemqeNgHaHX&pid=Api&P=0&h=180\"/>",
      "metadata": {}
    },
    {
      "cell_type": "markdown",
      "source": "## ¿Cómo obtener un ingreso residual?",
      "metadata": {}
    },
    {
      "cell_type": "markdown",
      "source": "Acorde a todos los libros que he leido, parece coincidencia pero todos te recomiendan los siguientes tres tipos de negocios para poder capitalizarte de ingresos residuales para que el tiempo ya se tuyo y hacer realmente lo que amas.\n\n1. Redes de mercadeo o Network-marketing\n2. Bienes Raices\n3. Inversiones\n\nEn lo personal yo ya probe las tres y lo que yo recomiendo mucho son las *Redes de mercadeo* ya que necesitas una inversión baja y realmente te puedes capitalizar sumamente rápido. Mis recomenadaciones al momento de emprender en una de estas es que tienes que cuidar mucho primero, el vehiculo en el que estás entrando, cuida que no sea una estafa piramidal. Las personas ignorantes sobre este tema piesan que todas son piramidales pero hay caracteristicas que los distinguen. Por segunda parte verifica que el producto sea un producto limpio, que realmente funcione y que pueda ayudar mucha gente. Y por último las enseñanzas que te están dando en esa empresa, si en la empresa en la que ingresas tienen estas dos bien pero en tu primer mes no haz vendido todo lo que haz comprado en tu inscripción algo puede estar mal en cuestión de estas ultimas dos o que incluso no te están capacitando como debe de ser. ",
      "metadata": {}
    },
    {
      "cell_type": "markdown",
      "source": "",
      "metadata": {}
    }
  ]
}